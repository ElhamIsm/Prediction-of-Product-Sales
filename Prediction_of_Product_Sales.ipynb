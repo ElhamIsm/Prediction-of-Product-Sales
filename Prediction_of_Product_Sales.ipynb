{
  "nbformat": 4,
  "nbformat_minor": 0,
  "metadata": {
    "colab": {
      "provenance": [],
      "authorship_tag": "ABX9TyNqgM/UhoABgzNoopcMLyFz",
      "include_colab_link": true
    },
    "kernelspec": {
      "name": "python3",
      "display_name": "Python 3"
    },
    "language_info": {
      "name": "python"
    }
  },
  "cells": [
    {
      "cell_type": "markdown",
      "metadata": {
        "id": "view-in-github",
        "colab_type": "text"
      },
      "source": [
        "<a href=\"https://colab.research.google.com/github/ElhamIsm/Prediction-of-Product-Sales/blob/main/Prediction_of_Product_Sales.ipynb\" target=\"_parent\"><img src=\"https://colab.research.google.com/assets/colab-badge.svg\" alt=\"Open In Colab\"/></a>"
      ]
    },
    {
      "cell_type": "markdown",
      "source": [
        "# Prediction of Product Sales"
      ],
      "metadata": {
        "id": "vpgOZ9AsiWLY"
      }
    },
    {
      "cell_type": "markdown",
      "source": [
        "- Author: Elham Ismail"
      ],
      "metadata": {
        "id": "MS5p6Itsiedz"
      }
    },
    {
      "cell_type": "markdown",
      "source": [
        "## Project Overview"
      ],
      "metadata": {
        "id": "wyuzfmlHiiXi"
      }
    },
    {
      "cell_type": "markdown",
      "source": [
        "## Load and Inspect Data"
      ],
      "metadata": {
        "id": "Xc473Hmaislu"
      }
    },
    {
      "cell_type": "code",
      "source": [],
      "metadata": {
        "id": "MhVB0pkXiy_3"
      },
      "execution_count": null,
      "outputs": []
    },
    {
      "cell_type": "markdown",
      "source": [
        "## Clean Data"
      ],
      "metadata": {
        "id": "fIn2TKiNizYl"
      }
    },
    {
      "cell_type": "code",
      "source": [],
      "metadata": {
        "id": "KIIVvP8Ti5Rb"
      },
      "execution_count": null,
      "outputs": []
    },
    {
      "cell_type": "markdown",
      "source": [
        "## Exploratory Data Analysis"
      ],
      "metadata": {
        "id": "AOd9Hoo5i50D"
      }
    },
    {
      "cell_type": "code",
      "source": [],
      "metadata": {
        "id": "3uFjPMEGjGcq"
      },
      "execution_count": null,
      "outputs": []
    },
    {
      "cell_type": "markdown",
      "source": [
        "## Feature Inspection"
      ],
      "metadata": {
        "id": "SfnxYe6UjHBG"
      }
    },
    {
      "cell_type": "code",
      "source": [],
      "metadata": {
        "id": "eRhpnQXbjJf9"
      },
      "execution_count": null,
      "outputs": []
    }
  ]
}